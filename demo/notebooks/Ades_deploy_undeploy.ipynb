{
 "cells": [
  {
   "cell_type": "code",
   "execution_count": null,
   "id": "073a3cc5-3611-4948-a7b6-86e2f3bd61e6",
   "metadata": {},
   "outputs": [],
   "source": [
    "import requests\n",
    "import json\n",
    "import os\n",
    "import shutil\n",
    "import pwd\n",
    "import grp"
   ]
  },
  {
   "cell_type": "markdown",
   "id": "2e88abe0-cbe6-4a5b-96a5-6134e7d610e0",
   "metadata": {},
   "source": [
    "# Ades2 Deploy and Undeploy Demo"
   ]
  },
  {
   "cell_type": "code",
   "execution_count": null,
   "id": "b4527b58-367e-4252-9c09-2c3c1de0b9c2",
   "metadata": {},
   "outputs": [],
   "source": [
    "services_folder=\"/usr/lib/cgi-bin\""
   ]
  },
  {
   "cell_type": "markdown",
   "id": "b13bfc83-99ca-4524-b508-6fda5b13a4ce",
   "metadata": {},
   "source": [
    "## List Processes\n",
    "Provides a list of all processes"
   ]
  },
  {
   "cell_type": "code",
   "execution_count": null,
   "id": "8ae4df87-5023-4e3b-b3ba-4164ca0e4c45",
   "metadata": {},
   "outputs": [],
   "source": [
    "response = requests.get('http://localhost/ogc-api/processes')\n",
    "response.json()"
   ]
  },
  {
   "cell_type": "markdown",
   "id": "f17556a2-c2be-4d8f-bcaf-06a1916f95a2",
   "metadata": {},
   "source": [
    "## Inspect deployed services\n",
    "In the Ades container/pod inspect the services folder"
   ]
  },
  {
   "cell_type": "code",
   "execution_count": null,
   "id": "998820ba-ff8b-4740-a6e1-849d39cef567",
   "metadata": {},
   "outputs": [],
   "source": [
    "for path, subdirs, files in os.walk(services_folder):\n",
    "    for name in files:\n",
    "        print(os.path.join(path, name))"
   ]
  },
  {
   "cell_type": "markdown",
   "id": "5656b77a-5f7d-4a9e-9486-3063a9325472",
   "metadata": {},
   "source": [
    "## Deploy the service using the application package\n",
    "The body of the POST request will include the application package.</br>\n",
    "The response returns 201 CREATED to indicate that the service has been successfully deployed.</br>\n",
    "The response Location header provides the path to the service details."
   ]
  },
  {
   "cell_type": "code",
   "execution_count": null,
   "id": "865c2f30-74bc-4bef-8214-ccad68beed24",
   "metadata": {},
   "outputs": [],
   "source": [
    "url = \"http://localhost/ogc-api/processes/\"\n",
    "payload = open('data/dnbr_app/dnbr.cwl', 'rb').read()\n",
    "\n",
    "headers = {'Content-Type': 'application/cwl'}\n",
    "response = requests.request(\"POST\", url, headers=headers, data=payload)\n",
    "\n",
    "print(f\"Body: {response.json()}\\n\")\n",
    "print(f\"Headers: {response.headers}\\n\")\n",
    "print(f\"Status code: {response.status_code}\")"
   ]
  },
  {
   "cell_type": "markdown",
   "id": "f130946a-2aa1-4d88-90e2-dfd552f5310f",
   "metadata": {},
   "source": [
    "## Inspect the application service's files"
   ]
  },
  {
   "cell_type": "code",
   "execution_count": null,
   "id": "6f24c857-aff3-4375-9887-f98b3629f29c",
   "metadata": {},
   "outputs": [],
   "source": [
    "for path, subdirs, files in os.walk(\"/usr/lib/cgi-bin/\"):\n",
    "    for name in files:\n",
    "        if \"dnbr\" in name or \"dnbr\" in path:\n",
    "            print(os.path.join(path, name))"
   ]
  },
  {
   "cell_type": "markdown",
   "id": "8b8625fa-14c1-49fc-83e3-a80290cddc9a",
   "metadata": {},
   "source": [
    "## Execute the deployed service\n",
    "Request body is json as defined by API Processes to define the inputs and outputs, consistent with the CWL Workflow application package.</br>\n",
    "The response returns 201 CREATED to indicate that the job has been successfully initiated.</br>\n",
    "The response Location header provides the path (/processes/{application_name}/jobs/{job_id}) to follow the job status."
   ]
  },
  {
   "cell_type": "code",
   "execution_count": null,
   "id": "78d45a8a-9193-42cc-be58-5bebb3551f0e",
   "metadata": {},
   "outputs": [],
   "source": [
    "url = \"http://localhost/ogc-api/processes/dnbr\"\n",
    "\n",
    "payload = open('data/dnbr_app/dnbr_execute_payload.json', 'rb').read()\n",
    "headers = {\n",
    "  'Accept': 'application/json',\n",
    "  'Content-Type': 'application/json'\n",
    "}\n",
    "\n",
    "response = requests.request(\"POST\", url, headers=headers, data=payload)\n",
    "print(f\"Headers: {response.headers}\\n\")\n",
    "print(f\"Status code: {response.status_code}\")"
   ]
  },
  {
   "cell_type": "code",
   "execution_count": null,
   "id": "9b8ed6e4-a2f5-46d2-928d-696471c3fc6f",
   "metadata": {},
   "outputs": [],
   "source": [
    "location = response.headers[\"Location\"]\n",
    "print(location)"
   ]
  },
  {
   "cell_type": "markdown",
   "id": "49ba5c73-6b90-42f7-af23-8b9b8a4398e8",
   "metadata": {},
   "source": [
    "## Get Job Status\n",
    "Check the status of a previously submitted job - using the URL returned in the Location header of the execute request.</br>\n",
    "The response body json provides a status string (success/running/failed) and a % progress..</br>\n",
    "In the case of a failure then a descriptive message is provided."
   ]
  },
  {
   "cell_type": "code",
   "execution_count": null,
   "id": "88ff5b0a-6f04-442b-8d55-f3c796993643",
   "metadata": {},
   "outputs": [],
   "source": [
    "get_status_response = requests.get(location)\n",
    "get_status_response.json()"
   ]
  },
  {
   "cell_type": "markdown",
   "id": "b54c7955-f82b-4279-995c-d12fcb2efb8a",
   "metadata": {},
   "source": [
    "## Get Job Result\n",
    "Returns details of the outputs for a successful job execution.</br>\n",
    "The response body provides json data that includes the reference to the STAC file that indexes the processing outputs."
   ]
  },
  {
   "cell_type": "code",
   "execution_count": null,
   "id": "60c7b7a0-a844-44c6-a3c5-7e7cc41ea0a7",
   "metadata": {},
   "outputs": [],
   "source": [
    "get_result_url = f\"{location}/results\"\n",
    "get_result_response = requests.request(\"GET\", get_result_url)\n",
    "get_result_response_json=json.loads(get_result_response.text)\n",
    "print(json.dumps(get_result_response_json,indent=2))"
   ]
  },
  {
   "cell_type": "markdown",
   "id": "48cb1333-bd18-41c4-bc1d-3be770dad5ee",
   "metadata": {},
   "source": [
    "## Inspect Job Result"
   ]
  },
  {
   "cell_type": "code",
   "execution_count": null,
   "id": "3d0362e6-7fac-4541-a55a-370460c91410",
   "metadata": {},
   "outputs": [],
   "source": [
    "result_url = get_result_response_json[\"stac\"][\"href\"]\n",
    "print(result_url)\n",
    "result_response = requests.request(\"GET\", result_url)\n",
    "print(result_response.text)"
   ]
  },
  {
   "cell_type": "markdown",
   "id": "f09a4a90-9d6c-421b-9e98-c9de9b29751f",
   "metadata": {},
   "source": [
    "## Undeploy the service\n",
    "Undeploys the service"
   ]
  },
  {
   "cell_type": "code",
   "execution_count": null,
   "id": "7edb05ca-867d-43f0-ad86-7a08834440e1",
   "metadata": {},
   "outputs": [],
   "source": [
    "url = \"http://localhost/ogc-api/processes/dnbr\"\n",
    "response = requests.request(\"DELETE\", url)\n",
    "print(response.headers)"
   ]
  },
  {
   "cell_type": "code",
   "execution_count": null,
   "id": "18b5b0c2-c22a-46a5-a954-803a5f0afc3a",
   "metadata": {},
   "outputs": [],
   "source": [
    "for path, subdirs, files in os.walk(services_folder):\n",
    "    for name in files:\n",
    "        print(os.path.join(path, name))"
   ]
  },
  {
   "cell_type": "markdown",
   "id": "bf683856-64a9-457f-a4d0-0c6502156311",
   "metadata": {},
   "source": [
    "# Deploying on namespace"
   ]
  },
  {
   "cell_type": "markdown",
   "id": "92afc9c1-424d-46b4-b340-9eacd7d7fc7d",
   "metadata": {},
   "source": [
    "## Creating the namespace\n",
    "Creating the folder for the namespace"
   ]
  },
  {
   "cell_type": "code",
   "execution_count": null,
   "id": "f97e918f-7ae6-4e7d-b42d-21365a6e896a",
   "metadata": {},
   "outputs": [],
   "source": [
    "default_services_path=\"/usr/lib/cgi-bin\"\n",
    "my_namespace_path=\"/opt/zooservices_namespaces/eoepca\""
   ]
  },
  {
   "cell_type": "code",
   "execution_count": null,
   "id": "bed49409-a187-4b3a-835e-5089f62e4657",
   "metadata": {},
   "outputs": [],
   "source": [
    "if not os.path.exists(my_namespace_path):\n",
    "    os.makedirs(my_namespace_path) "
   ]
  },
  {
   "cell_type": "markdown",
   "id": "4fd3c8ab-5933-48c2-82ef-b8cc1777b23b",
   "metadata": {},
   "source": [
    "Copying the Deploy and Undeploy services in the namespace folder"
   ]
  },
  {
   "cell_type": "code",
   "execution_count": null,
   "id": "12697c07-9199-492a-8612-7d68edcb5f88",
   "metadata": {},
   "outputs": [],
   "source": [
    "shutil.copyfile(f\"{default_services_path}/DeployProcess.py\", f\"{my_namespace_path}/DeployProcess.py\")\n",
    "shutil.copyfile(f\"{default_services_path}/DeployProcess.zcfg\", f\"{my_namespace_path}/DeployProcess.zcfg\")\n",
    "shutil.copyfile(f\"{default_services_path}/UndeployProcess.py\", f\"{my_namespace_path}/UndeployProcess.py\")\n",
    "shutil.copyfile(f\"{default_services_path}/UndeployProcess.zcfg\", f\"{my_namespace_path}/UndeployProcess.zcfg\")"
   ]
  },
  {
   "cell_type": "markdown",
   "id": "d4f0bc73-e170-4211-a750-74c37caa9067",
   "metadata": {},
   "source": [
    "Granting permissions to the namespace folder"
   ]
  },
  {
   "cell_type": "code",
   "execution_count": null,
   "id": "22d2cef9-5e74-402a-9ee5-95ad24843a34",
   "metadata": {},
   "outputs": [],
   "source": [
    "user_id=pwd.getpwnam(\"www-data\")[2]\n",
    "group_id=grp.getgrnam('www-data')[2]"
   ]
  },
  {
   "cell_type": "code",
   "execution_count": null,
   "id": "52f1b183-581c-4c32-8df3-826718493c63",
   "metadata": {},
   "outputs": [],
   "source": [
    "for dirpath, dirnames, filenames in os.walk(my_namespace_path):\n",
    "    shutil.chown(dirpath, user_id, group_id)\n",
    "    for filename in filenames:\n",
    "        shutil.chown(os.path.join(dirpath, filename), user_id,group_id)"
   ]
  },
  {
   "cell_type": "markdown",
   "id": "6b8b7e11-b097-4ba2-8716-b67b31cafd78",
   "metadata": {},
   "source": [
    "## Inspect namespace services\n",
    "Provides a list of all services in the namespace *eoepca*"
   ]
  },
  {
   "cell_type": "code",
   "execution_count": null,
   "id": "b5951fd5-103f-478e-b9f3-2ee9e74a2981",
   "metadata": {},
   "outputs": [],
   "source": [
    "response = requests.get('http://localhost/eoepca/ogc-api/processes')\n",
    "response.json()"
   ]
  },
  {
   "cell_type": "markdown",
   "id": "928c0465-9b5d-49f3-860e-7d00526b98fe",
   "metadata": {},
   "source": [
    "## Deploying application package"
   ]
  },
  {
   "cell_type": "code",
   "execution_count": null,
   "id": "69e9c882-c5a6-42ac-a706-a19f119c2edc",
   "metadata": {},
   "outputs": [],
   "source": [
    "url = \"http://localhost/eoepca/ogc-api/processes/\"\n",
    "payload = open('data/dnbr_app/dnbr.cwl', 'rb').read()\n",
    "\n",
    "headers = {'Content-Type': 'application/cwl'}\n",
    "response = requests.request(\"POST\", url, headers=headers, data=payload)\n",
    "\n",
    "print(f\"Body: {response.json()}\\n\")\n",
    "print(f\"Headers: {response.headers}\")\n",
    "print(f\"Status code: {response.status_code}\")"
   ]
  },
  {
   "cell_type": "code",
   "execution_count": null,
   "id": "ec64aec3-6366-4405-aff5-1c91ff4ecedc",
   "metadata": {},
   "outputs": [],
   "source": [
    "response = requests.get('http://localhost/eoepca/ogc-api/processes/dnbr')\n",
    "response.json()"
   ]
  },
  {
   "cell_type": "markdown",
   "id": "e5e65720-1a28-479f-981c-aaf051236fe8",
   "metadata": {},
   "source": [
    "## Execute the application"
   ]
  },
  {
   "cell_type": "code",
   "execution_count": null,
   "id": "7d260f85-3c29-4e7f-8fd3-351806f8c556",
   "metadata": {},
   "outputs": [],
   "source": [
    "url = \"http://localhost/eoepca/ogc-api/processes/dnbr\"\n",
    "\n",
    "payload = open('data/dnbr_app/dnbr_execute_payload.json', 'rb').read()\n",
    "headers = {\n",
    "  'Accept': 'application/json',\n",
    "  'Content-Type': 'application/json'\n",
    "}\n",
    "\n",
    "response = requests.request(\"POST\", url, headers=headers, data=payload)\n",
    "print(f\"Headers: {response.headers}\\n\")\n",
    "print(f\"Status code: {response.status_code}\")"
   ]
  },
  {
   "cell_type": "code",
   "execution_count": null,
   "id": "15b3577a-4069-4072-8595-ac8c791be90e",
   "metadata": {},
   "outputs": [],
   "source": [
    "location = response.headers[\"Location\"]\n",
    "print(location)"
   ]
  },
  {
   "cell_type": "markdown",
   "id": "ff268c72-4b28-4ad8-9cb7-5d714c333dad",
   "metadata": {},
   "source": [
    "## Get Job Status"
   ]
  },
  {
   "cell_type": "code",
   "execution_count": null,
   "id": "1237e0bb-000f-4eaf-94ac-35bdd123f4a8",
   "metadata": {},
   "outputs": [],
   "source": [
    "get_status_response = requests.get(location)\n",
    "get_status_response.json()"
   ]
  },
  {
   "cell_type": "markdown",
   "id": "d531ea79-7d5c-4c2e-a000-dc328f6ed56b",
   "metadata": {},
   "source": [
    "## Get Job Result"
   ]
  },
  {
   "cell_type": "code",
   "execution_count": null,
   "id": "032dbdbe-d9e2-404b-8722-58b8ccad770c",
   "metadata": {},
   "outputs": [],
   "source": [
    "get_result_url = f\"{location}/results\"\n",
    "get_result_response = requests.request(\"GET\", get_result_url)\n",
    "get_result_response_json=json.loads(get_result_response.text)\n",
    "print(json.dumps(get_result_response_json,indent=2))"
   ]
  },
  {
   "cell_type": "markdown",
   "id": "e0683b29-23c6-4679-b72b-95e2ed07e3b0",
   "metadata": {},
   "source": [
    "## Inspect Job Result"
   ]
  },
  {
   "cell_type": "code",
   "execution_count": null,
   "id": "e2d7faa9-c847-45ef-8810-38279f7635b0",
   "metadata": {},
   "outputs": [],
   "source": [
    "result_url = get_result_response_json[\"stac\"][\"href\"]\n",
    "print(result_url)\n",
    "result_response = requests.request(\"GET\", result_url)\n",
    "print(result_response.text)"
   ]
  },
  {
   "cell_type": "markdown",
   "id": "3eea6c43-5a96-45c0-a415-b5dfa2b30636",
   "metadata": {},
   "source": [
    "## Undeploy the service"
   ]
  },
  {
   "cell_type": "code",
   "execution_count": null,
   "id": "e637b469-a14a-40d4-9057-99e04f1b3329",
   "metadata": {},
   "outputs": [],
   "source": [
    "url = \"http://localhost/eoepca/ogc-api/processes/dnbr\"\n",
    "response = requests.request(\"DELETE\", url)\n",
    "print(response.headers)"
   ]
  },
  {
   "cell_type": "code",
   "execution_count": null,
   "id": "75b2919f-0101-47c5-a9aa-e5c41ea83f30",
   "metadata": {},
   "outputs": [],
   "source": [
    "for path, subdirs, files in os.walk(my_namespace_path):\n",
    "    for name in files:\n",
    "        print(os.path.join(path, name))"
   ]
  },
  {
   "cell_type": "code",
   "execution_count": null,
   "id": "e038bfa4-8a27-4520-9b23-5f57e89a69d5",
   "metadata": {},
   "outputs": [],
   "source": []
  }
 ],
 "metadata": {
  "kernelspec": {
   "display_name": "Python 3 (ipykernel)",
   "language": "python",
   "name": "python3"
  },
  "language_info": {
   "codemirror_mode": {
    "name": "ipython",
    "version": 3
   },
   "file_extension": ".py",
   "mimetype": "text/x-python",
   "name": "python",
   "nbconvert_exporter": "python",
   "pygments_lexer": "ipython3",
   "version": "3.9.5"
  }
 },
 "nbformat": 4,
 "nbformat_minor": 5
}
