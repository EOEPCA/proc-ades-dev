{
 "cells": [
  {
   "cell_type": "code",
   "execution_count": 1,
   "id": "073a3cc5-3611-4948-a7b6-86e2f3bd61e6",
   "metadata": {},
   "outputs": [],
   "source": [
    "import requests\n",
    "import json\n",
    "import os\n",
    "import shutil\n",
    "import pwd\n",
    "import grp"
   ]
  },
  {
   "cell_type": "markdown",
   "id": "bf683856-64a9-457f-a4d0-0c6502156311",
   "metadata": {},
   "source": [
    "# Deploying on namespace"
   ]
  },
  {
   "cell_type": "markdown",
   "id": "92afc9c1-424d-46b4-b340-9eacd7d7fc7d",
   "metadata": {},
   "source": [
    "## Creating the namespace\n",
    "Creating the folder for the namespace"
   ]
  },
  {
   "cell_type": "code",
   "execution_count": 2,
   "id": "f97e918f-7ae6-4e7d-b42d-21365a6e896a",
   "metadata": {},
   "outputs": [],
   "source": [
    "default_services_path=\"/usr/lib/cgi-bin\"\n",
    "my_namespace_path=\"/opt/zooservices_namespaces/eoepca\""
   ]
  },
  {
   "cell_type": "code",
   "execution_count": 3,
   "id": "bed49409-a187-4b3a-835e-5089f62e4657",
   "metadata": {},
   "outputs": [],
   "source": [
    "if not os.path.exists(my_namespace_path):\n",
    "    os.makedirs(my_namespace_path) "
   ]
  },
  {
   "cell_type": "markdown",
   "id": "4fd3c8ab-5933-48c2-82ef-b8cc1777b23b",
   "metadata": {},
   "source": [
    "Copying the Deploy and Undeploy services in the namespace folder"
   ]
  },
  {
   "cell_type": "code",
   "execution_count": 4,
   "id": "12697c07-9199-492a-8612-7d68edcb5f88",
   "metadata": {},
   "outputs": [
    {
     "data": {
      "text/plain": [
       "'/opt/zooservices_namespaces/eoepca/UndeployProcess.zcfg'"
      ]
     },
     "execution_count": 4,
     "metadata": {},
     "output_type": "execute_result"
    }
   ],
   "source": [
    "shutil.copyfile(f\"{default_services_path}/DeployProcess.py\", f\"{my_namespace_path}/DeployProcess.py\")\n",
    "shutil.copyfile(f\"{default_services_path}/DeployProcess.zcfg\", f\"{my_namespace_path}/DeployProcess.zcfg\")\n",
    "shutil.copyfile(f\"{default_services_path}/UndeployProcess.py\", f\"{my_namespace_path}/UndeployProcess.py\")\n",
    "shutil.copyfile(f\"{default_services_path}/UndeployProcess.zcfg\", f\"{my_namespace_path}/UndeployProcess.zcfg\")"
   ]
  },
  {
   "cell_type": "markdown",
   "id": "d4f0bc73-e170-4211-a750-74c37caa9067",
   "metadata": {},
   "source": [
    "Granting permissions to the namespace folder"
   ]
  },
  {
   "cell_type": "code",
   "execution_count": 5,
   "id": "22d2cef9-5e74-402a-9ee5-95ad24843a34",
   "metadata": {},
   "outputs": [],
   "source": [
    "user_id=pwd.getpwnam(\"www-data\")[2]\n",
    "group_id=grp.getgrnam('www-data')[2]"
   ]
  },
  {
   "cell_type": "code",
   "execution_count": 6,
   "id": "52f1b183-581c-4c32-8df3-826718493c63",
   "metadata": {},
   "outputs": [],
   "source": [
    "for dirpath, dirnames, filenames in os.walk(my_namespace_path):\n",
    "    shutil.chown(dirpath, user_id, group_id)\n",
    "    for filename in filenames:\n",
    "        shutil.chown(os.path.join(dirpath, filename), user_id,group_id)"
   ]
  },
  {
   "cell_type": "markdown",
   "id": "6b8b7e11-b097-4ba2-8716-b67b31cafd78",
   "metadata": {},
   "source": [
    "## Inspect namespace services\n",
    "Provides a list of all services in the namespace *eoepca*"
   ]
  },
  {
   "cell_type": "code",
   "execution_count": 7,
   "id": "b5951fd5-103f-478e-b9f3-2ee9e74a2981",
   "metadata": {},
   "outputs": [
    {
     "data": {
      "text/plain": [
       "{'processes': [{'id': 'UndeployProcess',\n",
       "   'title': 'Undeploy Process',\n",
       "   'description': 'This method will undeploy a deployed processing service.',\n",
       "   'version': '1.0.0',\n",
       "   'jobControlOptions': ['sync-execute', 'async-execute', 'dismiss'],\n",
       "   'outputTransmission': ['value', 'reference'],\n",
       "   'links': [{'rel': 'self',\n",
       "     'type': 'application/json',\n",
       "     'title': 'Process Description',\n",
       "     'href': 'http://localhost/eoepca/ogc-api/processes/UndeployProcess'},\n",
       "    {'rel': 'alternate',\n",
       "     'type': 'text/html',\n",
       "     'title': 'Process Description',\n",
       "     'href': 'http://localhost/eoepca/ogc-api/processes/UndeployProcess.html'}]},\n",
       "  {'id': 'DeployProcess',\n",
       "   'title': 'Deploys a zoo service from an application package.',\n",
       "   'description': 'Deploys a zoo service from an application package.',\n",
       "   'version': '2.0.0',\n",
       "   'jobControlOptions': ['sync-execute', 'async-execute', 'dismiss'],\n",
       "   'outputTransmission': ['value', 'reference'],\n",
       "   'links': [{'rel': 'self',\n",
       "     'type': 'application/json',\n",
       "     'title': 'Process Description',\n",
       "     'href': 'http://localhost/eoepca/ogc-api/processes/DeployProcess'},\n",
       "    {'rel': 'alternate',\n",
       "     'type': 'text/html',\n",
       "     'title': 'Process Description',\n",
       "     'href': 'http://localhost/eoepca/ogc-api/processes/DeployProcess.html'}]}],\n",
       " 'links': [{'rel': 'self',\n",
       "   'type': 'application/json',\n",
       "   'href': 'http://localhost/eoepca/ogc-api/processes'},\n",
       "  {'rel': 'alternate',\n",
       "   'type': 'text/html',\n",
       "   'href': 'http://localhost/eoepca/ogc-api/processes.html'}],\n",
       " 'numberTotal': 2}"
      ]
     },
     "execution_count": 7,
     "metadata": {},
     "output_type": "execute_result"
    }
   ],
   "source": [
    "response = requests.get('http://localhost/eoepca/ogc-api/processes')\n",
    "response.json()"
   ]
  },
  {
   "cell_type": "markdown",
   "id": "928c0465-9b5d-49f3-860e-7d00526b98fe",
   "metadata": {},
   "source": [
    "## Deploying application package"
   ]
  },
  {
   "cell_type": "code",
   "execution_count": 8,
   "id": "69e9c882-c5a6-42ac-a706-a19f119c2edc",
   "metadata": {},
   "outputs": [
    {
     "name": "stdout",
     "output_type": "stream",
     "text": [
      "Body: {'message': 'Service dnbr version 0.1.0 successfully deployed.', 'service': 'dnbr', 'status': 'success'}\n",
      "\n",
      "Headers: {'Date': 'Wed, 03 Aug 2022 09:31:39 GMT', 'Server': 'Apache/2.4.41 (Ubuntu)', 'Content-Length': '104', 'Location': 'http://localhost/eoepca/ogc-api/processes/dnbr', 'Keep-Alive': 'timeout=5, max=100', 'Connection': 'Keep-Alive', 'Content-Type': 'application/json; charset=UTF-8'}\n",
      "Status code: 201\n"
     ]
    }
   ],
   "source": [
    "url = \"http://localhost/eoepca/ogc-api/processes/\"\n",
    "payload = open('data/dnbr_app/dnbr.cwl', 'rb').read()\n",
    "\n",
    "headers = {'Content-Type': 'application/cwl'}\n",
    "response = requests.request(\"POST\", url, headers=headers, data=payload)\n",
    "\n",
    "print(f\"Body: {response.json()}\\n\")\n",
    "print(f\"Headers: {response.headers}\")\n",
    "print(f\"Status code: {response.status_code}\")"
   ]
  },
  {
   "cell_type": "code",
   "execution_count": 9,
   "id": "ec64aec3-6366-4405-aff5-1c91ff4ecedc",
   "metadata": {},
   "outputs": [
    {
     "data": {
      "text/plain": [
       "{'id': 'dnbr',\n",
       " 'title': 'dNBR - produce the delta normalized difference between NIR and SWIR 22 over a pair of stac items',\n",
       " 'description': 'dNBR - produce the delta normalized difference between NIR and SWIR 22 over a pair of stac items',\n",
       " 'version': '0.1.0',\n",
       " 'jobControlOptions': ['sync-execute', 'async-execute', 'dismiss'],\n",
       " 'outputTransmission': ['value', 'reference'],\n",
       " 'links': [{'rel': 'http://www.opengis.net/def/rel/ogc/1.0/execute',\n",
       "   'type': 'application/json',\n",
       "   'title': 'Execute End Point',\n",
       "   'href': 'http://localhost/eoepca/ogc-api/processes/dnbr/execution'},\n",
       "  {'rel': 'alternate',\n",
       "   'type': 'text/html',\n",
       "   'title': 'Execute End Point',\n",
       "   'href': 'http://localhost/eoepca/ogc-api/processes/dnbr/execution.html'}],\n",
       " 'inputs': {'pre_stac_item': {'title': 'pre_stac_item',\n",
       "   'description': 'Pre-event Sentinel-2 item',\n",
       "   'schema': {'type': 'string', 'default': 'Any value'}},\n",
       "  'post_stac_item': {'title': 'post_stac_item',\n",
       "   'description': 'Post-event Sentinel-2 item',\n",
       "   'schema': {'type': 'string', 'default': 'Any value'}},\n",
       "  'aoi': {'title': 'aoi',\n",
       "   'description': 'area of interest as a bounding box',\n",
       "   'schema': {'type': 'string', 'default': 'Any value'}},\n",
       "  'bands': {'title': 'bands',\n",
       "   'description': 'None',\n",
       "   'maxOccurs': 999,\n",
       "   'schema': {'type': 'string', 'default': 'Any value'}}},\n",
       " 'outputs': {'stac': {'title': 'stac',\n",
       "   'description': 'None',\n",
       "   'extended-schema': {'oneOf': [{'allOf': [{'$ref': 'http://zoo-project.org/dl/link.json'},\n",
       "       {'type': 'object',\n",
       "        'properties': {'type': {'enum': ['application/json']}}}]},\n",
       "     {'type': 'object',\n",
       "      'required': ['value'],\n",
       "      'properties': {'value': {'oneOf': [{'type': 'object'}]}}}]},\n",
       "   'schema': {'oneOf': [{'type': 'object'}]}}}}"
      ]
     },
     "execution_count": 9,
     "metadata": {},
     "output_type": "execute_result"
    }
   ],
   "source": [
    "response = requests.get('http://localhost/eoepca/ogc-api/processes/dnbr')\n",
    "response.json()"
   ]
  },
  {
   "cell_type": "markdown",
   "id": "e5e65720-1a28-479f-981c-aaf051236fe8",
   "metadata": {},
   "source": [
    "## Execute the application"
   ]
  },
  {
   "cell_type": "code",
   "execution_count": 138,
   "id": "7d260f85-3c29-4e7f-8fd3-351806f8c556",
   "metadata": {},
   "outputs": [
    {
     "name": "stdout",
     "output_type": "stream",
     "text": [
      "Headers: {'Date': 'Wed, 03 Aug 2022 15:10:09 GMT', 'Server': 'Apache/2.4.41 (Ubuntu)', 'Location': 'http://localhost/eoepca/ogc-api/jobs/5d49062c-133e-11ed-b6ba-0242ac190102', 'Keep-Alive': 'timeout=5, max=100', 'Connection': 'Keep-Alive', 'Transfer-Encoding': 'chunked', 'Content-Type': 'application/json;charset=UTF-8'}\n",
      "\n",
      "Status code: 201\n"
     ]
    }
   ],
   "source": [
    "url = \"http://localhost/eoepca/ogc-api/processes/dnbr\"\n",
    "\n",
    "payload = open('data/dnbr_app/dnbr_execute_payload.json', 'rb').read()\n",
    "headers = {\n",
    "  'Accept': 'application/json',\n",
    "  'Content-Type': 'application/json'\n",
    "}\n",
    "\n",
    "response = requests.request(\"POST\", url, headers=headers, data=payload)\n",
    "print(f\"Headers: {response.headers}\\n\")\n",
    "print(f\"Status code: {response.status_code}\")"
   ]
  },
  {
   "cell_type": "code",
   "execution_count": 139,
   "id": "15b3577a-4069-4072-8595-ac8c791be90e",
   "metadata": {},
   "outputs": [
    {
     "name": "stdout",
     "output_type": "stream",
     "text": [
      "http://localhost/eoepca/ogc-api/jobs/5d49062c-133e-11ed-b6ba-0242ac190102\n"
     ]
    }
   ],
   "source": [
    "location = response.headers[\"Location\"]\n",
    "print(location)"
   ]
  },
  {
   "cell_type": "markdown",
   "id": "ff268c72-4b28-4ad8-9cb7-5d714c333dad",
   "metadata": {},
   "source": [
    "## Get Job Status"
   ]
  },
  {
   "cell_type": "code",
   "execution_count": 140,
   "id": "1237e0bb-000f-4eaf-94ac-35bdd123f4a8",
   "metadata": {},
   "outputs": [
    {
     "data": {
      "text/plain": [
       "{'jobID': '5d49062c-133e-11ed-b6ba-0242ac190102',\n",
       " 'status': 'failed',\n",
       " 'message': 'Unable to run the Service. The message returned back by the Service was the following: No message provided',\n",
       " 'links': [{'title': 'Status location',\n",
       "   'rel': 'status',\n",
       "   'type': 'application/json',\n",
       "   'href': 'http://localhost/eoepca/ogc-api/jobs/5d49062c-133e-11ed-b6ba-0242ac190102'}]}"
      ]
     },
     "execution_count": 140,
     "metadata": {},
     "output_type": "execute_result"
    }
   ],
   "source": [
    "get_status_response = requests.get(location)\n",
    "get_status_response.json()"
   ]
  },
  {
   "cell_type": "markdown",
   "id": "d531ea79-7d5c-4c2e-a000-dc328f6ed56b",
   "metadata": {},
   "source": [
    "## Get Job Result"
   ]
  },
  {
   "cell_type": "code",
   "execution_count": 13,
   "id": "032dbdbe-d9e2-404b-8722-58b8ccad770c",
   "metadata": {},
   "outputs": [
    {
     "name": "stdout",
     "output_type": "stream",
     "text": [
      "{\n",
      "  \"stac\": {\n",
      "    \"href\": \"http://localhost/temp//ZOO_DATA_dnbr_stac_21e9e69a-1268-11ed-a367-0242ac192202_0.json\"\n",
      "  }\n",
      "}\n"
     ]
    }
   ],
   "source": [
    "get_result_url = f\"{location}/results\"\n",
    "get_result_response = requests.request(\"GET\", get_result_url)\n",
    "get_result_response_json=json.loads(get_result_response.text)\n",
    "print(json.dumps(get_result_response_json,indent=2))"
   ]
  },
  {
   "cell_type": "markdown",
   "id": "e0683b29-23c6-4679-b72b-95e2ed07e3b0",
   "metadata": {},
   "source": [
    "## Inspect Job Result"
   ]
  },
  {
   "cell_type": "code",
   "execution_count": 14,
   "id": "e2d7faa9-c847-45ef-8810-38279f7635b0",
   "metadata": {},
   "outputs": [
    {
     "name": "stdout",
     "output_type": "stream",
     "text": [
      "http://localhost/temp//ZOO_DATA_dnbr_stac_21e9e69a-1268-11ed-a367-0242ac192202_0.json\n",
      "Success!\n"
     ]
    }
   ],
   "source": [
    "result_url = get_result_response_json[\"stac\"][\"href\"]\n",
    "print(result_url)\n",
    "result_response = requests.request(\"GET\", result_url)\n",
    "print(result_response.text)"
   ]
  },
  {
   "cell_type": "markdown",
   "id": "3eea6c43-5a96-45c0-a415-b5dfa2b30636",
   "metadata": {},
   "source": [
    "## Undeploy the service"
   ]
  },
  {
   "cell_type": "code",
   "execution_count": 15,
   "id": "e637b469-a14a-40d4-9057-99e04f1b3329",
   "metadata": {},
   "outputs": [
    {
     "name": "stdout",
     "output_type": "stream",
     "text": [
      "{'Date': 'Tue, 02 Aug 2022 13:36:41 GMT', 'Server': 'Apache/2.4.41 (Ubuntu)', 'Keep-Alive': 'timeout=5, max=100', 'Connection': 'Keep-Alive'}\n",
      "204\n"
     ]
    }
   ],
   "source": [
    "url = \"http://localhost/eoepca/ogc-api/processes/dnbr\"\n",
    "response = requests.request(\"DELETE\", url)\n",
    "print(response.headers)\n",
    "print(response.status_code)"
   ]
  },
  {
   "cell_type": "code",
   "execution_count": 16,
   "id": "75b2919f-0101-47c5-a9aa-e5c41ea83f30",
   "metadata": {},
   "outputs": [
    {
     "name": "stdout",
     "output_type": "stream",
     "text": [
      "/opt/zooservices_namespaces/eoepca/UndeployProcess.py\n",
      "/opt/zooservices_namespaces/eoepca/DeployProcess.py\n",
      "/opt/zooservices_namespaces/eoepca/UndeployProcess.zcfg\n",
      "/opt/zooservices_namespaces/eoepca/DeployProcess.zcfg\n",
      "/opt/zooservices_namespaces/eoepca/__pycache__/UndeployProcess.cpython-38.pyc\n",
      "/opt/zooservices_namespaces/eoepca/__pycache__/DeployProcess.cpython-38.pyc\n"
     ]
    }
   ],
   "source": [
    "for path, subdirs, files in os.walk(my_namespace_path):\n",
    "    for name in files:\n",
    "        print(os.path.join(path, name))"
   ]
  },
  {
   "cell_type": "code",
   "execution_count": null,
   "id": "e038bfa4-8a27-4520-9b23-5f57e89a69d5",
   "metadata": {},
   "outputs": [],
   "source": []
  }
 ],
 "metadata": {
  "kernelspec": {
   "display_name": "Python 3 (ipykernel)",
   "language": "python",
   "name": "python3"
  },
  "language_info": {
   "codemirror_mode": {
    "name": "ipython",
    "version": 3
   },
   "file_extension": ".py",
   "mimetype": "text/x-python",
   "name": "python",
   "nbconvert_exporter": "python",
   "pygments_lexer": "ipython3",
   "version": "3.8.13"
  }
 },
 "nbformat": 4,
 "nbformat_minor": 5
}
